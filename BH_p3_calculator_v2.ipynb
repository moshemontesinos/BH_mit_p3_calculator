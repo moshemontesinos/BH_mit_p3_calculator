{
 "cells": [
  {
   "cell_type": "markdown",
   "metadata": {},
   "source": [
    "## **FAIR VALUE PPP CALCULATOR (DRAFT)**\n",
    "**Authors:** Debborah Lucas, Jorge J. Montesinos<br>\n",
    "MIT Golub Center for Finance and Policy: http://gcfp.mit.edu/)<br>\n",
    "<br>\n",
    "**Objective:** Develop a fair value APV framework for assessing public infrastructure projects and the various claims associated with them. "
   ]
  },
  {
   "cell_type": "code",
   "execution_count": 203,
   "metadata": {
    "collapsed": true,
    "jupyter": {
     "outputs_hidden": true,
     "source_hidden": true
    }
   },
   "outputs": [
    {
     "name": "stderr",
     "output_type": "stream",
     "text": [
      "Installing package into 'C:/Users/Montesinos/Documents/R/win-library/3.5'\n",
      "(as 'lib' is unspecified)\n",
      "also installing the dependency 'RCurl'\n",
      "\n"
     ]
    },
    {
     "name": "stdout",
     "output_type": "stream",
     "text": [
      "package 'RCurl' successfully unpacked and MD5 sums checked\n",
      "package 'FinCal' successfully unpacked and MD5 sums checked\n",
      "\n",
      "The downloaded binary packages are in\n",
      "\tC:\\Users\\Montesinos\\AppData\\Local\\Temp\\Rtmp2Zba2q\\downloaded_packages\n"
     ]
    },
    {
     "name": "stderr",
     "output_type": "stream",
     "text": [
      "Warning message:\n",
      "\"package 'FinCal' was built under R version 3.5.3\"\n",
      "Attaching package: 'FinCal'\n",
      "\n",
      "The following objects are masked from 'package:jrvFinance':\n",
      "\n",
      "    irr, npv\n",
      "\n"
     ]
    }
   ],
   "source": [
    "## Install packages\n",
    "# install.packages(\"tidyverse\")\n",
    "# install.packages(\"optiRum\")\n",
    "install.packages(\"FinCal\")\n",
    "library(tidyverse)\n",
    "library(tidyr)\n",
    "library(dplyr)\n",
    "library(readr)\n",
    "library(\"ggplot2\")\n",
    "library(\"optiRum\")\n",
    "library(\"FinCal\")\n",
    "library(\"purrr\")"
   ]
  },
  {
   "cell_type": "markdown",
   "metadata": {},
   "source": [
    "### Example: valuing a toll road\n",
    "The hypothetical base case cash flows conform to the typical pattern of toll revenues net of capital expenditures, and operating and maintenance costs. \n",
    "Here the project is assumed to start in **2018**. <br>\n",
    "Scale and some features are loosely based on projections that were made for part of the California Highway SR-91 Corridor improvement Project:\n",
    "- 5 years construction, then 35 year concession to private partner (calibrated to 2018 market conditions)\n",
    "- Projected net cash flows follow typical S-shaped pattern"
   ]
  },
  {
   "cell_type": "code",
   "execution_count": 23,
   "metadata": {
    "collapsed": true,
    "jupyter": {
     "outputs_hidden": true
    }
   },
   "outputs": [
    {
     "name": "stderr",
     "output_type": "stream",
     "text": [
      "Parsed with column specification:\n",
      "cols(\n",
      "  time = col_double(),\n",
      "  revs = col_double(),\n",
      "  capital = col_double(),\n",
      "  o_m = col_double()\n",
      ")\n"
     ]
    },
    {
     "data": {
      "text/html": [
       "<table>\n",
       "<thead><tr><th scope=col>time</th><th scope=col>revs</th><th scope=col>capital</th><th scope=col>o_m</th><th scope=col>net_cfs</th></tr></thead>\n",
       "<tbody>\n",
       "\t<tr><td>0       </td><td>0       </td><td>0.0e+00 </td><td>0       </td><td> 0.0e+00</td></tr>\n",
       "\t<tr><td>1       </td><td>0       </td><td>1.2e+08 </td><td>0       </td><td>-1.2e+08</td></tr>\n",
       "\t<tr><td>2       </td><td>0       </td><td>1.2e+08 </td><td>0       </td><td>-1.2e+08</td></tr>\n",
       "\t<tr><td>3       </td><td>0       </td><td>1.2e+08 </td><td>0       </td><td>-1.2e+08</td></tr>\n",
       "\t<tr><td>4       </td><td>0       </td><td>1.2e+08 </td><td>0       </td><td>-1.2e+08</td></tr>\n",
       "\t<tr><td>5       </td><td>0       </td><td>1.2e+08 </td><td>0       </td><td>-1.2e+08</td></tr>\n",
       "</tbody>\n",
       "</table>\n"
      ],
      "text/latex": [
       "\\begin{tabular}{r|lllll}\n",
       " time & revs & capital & o\\_m & net\\_cfs\\\\\n",
       "\\hline\n",
       "\t 0        & 0        & 0.0e+00  & 0        &  0.0e+00\\\\\n",
       "\t 1        & 0        & 1.2e+08  & 0        & -1.2e+08\\\\\n",
       "\t 2        & 0        & 1.2e+08  & 0        & -1.2e+08\\\\\n",
       "\t 3        & 0        & 1.2e+08  & 0        & -1.2e+08\\\\\n",
       "\t 4        & 0        & 1.2e+08  & 0        & -1.2e+08\\\\\n",
       "\t 5        & 0        & 1.2e+08  & 0        & -1.2e+08\\\\\n",
       "\\end{tabular}\n"
      ],
      "text/markdown": [
       "\n",
       "| time | revs | capital | o_m | net_cfs |\n",
       "|---|---|---|---|---|\n",
       "| 0        | 0        | 0.0e+00  | 0        |  0.0e+00 |\n",
       "| 1        | 0        | 1.2e+08  | 0        | -1.2e+08 |\n",
       "| 2        | 0        | 1.2e+08  | 0        | -1.2e+08 |\n",
       "| 3        | 0        | 1.2e+08  | 0        | -1.2e+08 |\n",
       "| 4        | 0        | 1.2e+08  | 0        | -1.2e+08 |\n",
       "| 5        | 0        | 1.2e+08  | 0        | -1.2e+08 |\n",
       "\n"
      ],
      "text/plain": [
       "  time revs capital o_m net_cfs \n",
       "1 0    0    0.0e+00 0    0.0e+00\n",
       "2 1    0    1.2e+08 0   -1.2e+08\n",
       "3 2    0    1.2e+08 0   -1.2e+08\n",
       "4 3    0    1.2e+08 0   -1.2e+08\n",
       "5 4    0    1.2e+08 0   -1.2e+08\n",
       "6 5    0    1.2e+08 0   -1.2e+08"
      ]
     },
     "metadata": {},
     "output_type": "display_data"
    }
   ],
   "source": [
    "# Load data (Hypothetical case):\n",
    "df <- read_csv(\"C:/Users/Montesinos/BH my notebooks/BH r_model (MIT)/BH_p3_calculator/BH_data_hyp_case_v2.csv\")\n",
    "\n",
    "#### Net cash flows (net_cfs):\n",
    "df <- df %>%\n",
    "  mutate(net_cfs = revs - capital - o_m)\n",
    "head(df)"
   ]
  },
  {
   "cell_type": "code",
   "execution_count": 87,
   "metadata": {},
   "outputs": [
    {
     "data": {
      "image/png": "[encoded data removed]",
      "text/plain": [
       "plot without title"
      ]
     },
     "metadata": {},
     "output_type": "display_data"
    }
   ],
   "source": [
    "# Plot Net cash flows (annual)\n",
    "ggplot(df, aes(x=time, y=net_cfs)) + \n",
    "    geom_col(fill =\"blue\") + \n",
    "    ggtitle(\"Figure 1: Toll road cash flows (annual)\") +\n",
    "    theme(plot.title = element_text(hjust=\"0.5\"))\n",
    "\n",
    "# Change plot size to 4 x 3\n",
    "options(repr.plot.width=10, repr.plot.height=3)"
   ]
  },
  {
   "cell_type": "markdown",
   "metadata": {},
   "source": [
    "### INPUTS "
   ]
  },
  {
   "cell_type": "markdown",
   "metadata": {},
   "source": [
    "**Volatility:** <br>\n",
    "- Cash flow volatility based on DOT data from 1999-2016 on 15 toll projects https://www.fhwa.dot.gov/policyinformation/statistics.cfm <br>\n",
    "- For nominal (real) toll revenues, the coefficient of variation averages .30 (.40), with a standard deviation of .14 (.13)\n",
    "Volatility may be higher in early years when more demand and construction delay uncertainty\n",
    "\n",
    "**Cost of capital for standalone project:** <br>\n",
    "- Asset beta of 0.8, calculated as the average for “trucking” and “transportation” (*see Prof. Damadoran betas website at:* http://pages.stern.nyu.edu/~adamodar/New_Home_Page/datafile/Betas.html)\n",
    "- CAPM inputs: risk-free rate of 2%, equity risk premium of 6%, inflation of 2% (see \"Inputs\" section above) \n",
    "- Nominal discount rate of .02 + .805(.06) = **6.8%**; real discount rate of **4.7%**."
   ]
  },
  {
   "cell_type": "code",
   "execution_count": 163,
   "metadata": {},
   "outputs": [],
   "source": [
    "## INPUTS \n",
    "# Project's generals:\n",
    "n  <- 40            # total project duration (years)\n",
    "n1 <- 5             # construction period (years)\n",
    "n2 <- n-n1          # operation period (years)\n",
    "rf <- 0.02          # risk-free rate (%)\n",
    "inflation <- 0.021  # expected inflation\n",
    "vol1 <- 0.30        # constant volatility\n",
    "vol2 <- rep(c(0,0.5,0.4,0.3,0.2), c(6,2,2,2,29))   # varying volatility\n",
    "vol3 <- tibble(vol1,vol2) # volatility dataframe\n",
    "\n",
    "# Calculate cost of capital (ra):\n",
    "Beta <- mean(c(0.80,0.81))             # asset beta: average btw transportation (.8) and trucking (.81)\n",
    "premium <- 0.06                        # equity premium\n",
    "ra <- rf + Beta*(premium) - inflation  # real fair value discount rate (%)\n",
    "ra <- round(ra, digits = 3)\n",
    "\n",
    "# Other inputs:\n",
    "strike <- 15000000    # strike price (minimum guaranteed revenue)\n",
    "durations <- c(5,10,20)\n"
   ]
  },
  {
   "cell_type": "markdown",
   "metadata": {},
   "source": [
    "<br>\n",
    "\n",
    "### BLACK'S MODEL CALCULATIONS:\n",
    "**Minimum Revenue Guarantees:** <br>\n",
    "Used to reduce risk for private partner. \n",
    "Technically this is a strip of put options that can be valued using **Black’s model** for commodity options, using the following equation:\n"
   ]
  },
  {
   "cell_type": "markdown",
   "metadata": {},
   "source": [
    "$$p_{0,t} = e^{-ρ_t T} [XN(-d_2) - F_tN(-d1)]$$\n",
    "where:"
   ]
  },
  {
   "cell_type": "markdown",
   "metadata": {},
   "source": [
    "$$d_1 = \\frac{ln(F_t/X) + σ_t^2\\text{ }/\\text{ } T}{σ_t\\sqrt{T}} \\text{   , and}\\text{  } d_2 = d_1 - σ_t$$\n"
   ]
  },
  {
   "cell_type": "markdown",
   "metadata": {},
   "source": [
    "- $T$ is the time to maturity of the option, i.e., the arrival time of the revenue flow; \n",
    "- $F_t$ is the forward price of the revenue flow at $T$;\n",
    "- $X$ is the minimum guaranteed revenue, \n",
    "- $ρ_t$ is the risk-free rate on a continuous basis for maturity $T$; \n",
    "- $σ_t$ is the standard deviation of time $T$ revenues; \n",
    "- $N$ is the cumulative normal distribution; and $p_{0, t}$ is the value of the revenue guarantee for time $T$ as of time 0. <br>\n",
    "\n",
    "[These calculations require an estimate of the volatility of future revenues, which we include in the Inputs section above.]"
   ]
  },
  {
   "cell_type": "code",
   "execution_count": 94,
   "metadata": {
    "collapsed": true,
    "jupyter": {
     "outputs_hidden": true
    }
   },
   "outputs": [
    {
     "data": {
      "text/html": [
       "<table>\n",
       "<thead><tr><th scope=col>time</th><th scope=col>revs</th><th scope=col>capital</th><th scope=col>o_m</th><th scope=col>net_cfs</th><th scope=col>fw</th><th scope=col>d1</th><th scope=col>d2</th><th scope=col>N_d1</th><th scope=col>N_d2</th><th scope=col>put</th></tr></thead>\n",
       "<tbody>\n",
       "\t<tr><td> 0         </td><td>       0   </td><td>0.0e+00    </td><td>       0   </td><td>         0 </td><td>       0   </td><td>      NA   </td><td>         NA</td><td>        NA </td><td>       NA  </td><td>       NA  </td></tr>\n",
       "\t<tr><td> 1         </td><td>       0   </td><td>1.2e+08    </td><td>       0   </td><td>-120000000 </td><td>       0   </td><td>      NA   </td><td>         NA</td><td>        NA </td><td>       NA  </td><td>       NA  </td></tr>\n",
       "\t<tr><td> 2         </td><td>       0   </td><td>1.2e+08    </td><td>       0   </td><td>-120000000 </td><td>       0   </td><td>      NA   </td><td>         NA</td><td>        NA </td><td>       NA  </td><td>       NA  </td></tr>\n",
       "\t<tr><td> 3         </td><td>       0   </td><td>1.2e+08    </td><td>       0   </td><td>-120000000 </td><td>       0   </td><td>      NA   </td><td>         NA</td><td>        NA </td><td>       NA  </td><td>       NA  </td></tr>\n",
       "\t<tr><td> 4         </td><td>       0   </td><td>1.2e+08    </td><td>       0   </td><td>-120000000 </td><td>       0   </td><td>      NA   </td><td>         NA</td><td>        NA </td><td>       NA  </td><td>       NA  </td></tr>\n",
       "\t<tr><td> 5         </td><td>       0   </td><td>1.2e+08    </td><td>       0   </td><td>-120000000 </td><td>       0   </td><td>      NA   </td><td>         NA</td><td>        NA </td><td>       NA  </td><td>       NA  </td></tr>\n",
       "\t<tr><td> 6         </td><td>44689868   </td><td>0.0e+00    </td><td>15186757   </td><td>  29503111 </td><td>38251134   </td><td>1.641326   </td><td> 0.90647861</td><td>0.05036493 </td><td>0.1823413  </td><td> 717167.1  </td></tr>\n",
       "\t<tr><td> 7         </td><td>45901851   </td><td>0.0e+00    </td><td>15950734   </td><td>  29951117 </td><td>38282885   </td><td>1.577312   </td><td> 0.78358677</td><td>0.05736186 </td><td>0.2166413  </td><td> 915992.6  </td></tr>\n",
       "\t<tr><td> 8         </td><td>47044260   </td><td>0.0e+00    </td><td>16714711   </td><td>  30329549 </td><td>38231409   </td><td>1.526888   </td><td> 0.67835960</td><td>0.06339447 </td><td>0.2487719  </td><td>1114534.3  </td></tr>\n",
       "\t<tr><td> 9         </td><td>49329077   </td><td>0.0e+00    </td><td>17044000   </td><td>  32285077 </td><td>39062125   </td><td>1.513448   </td><td> 0.61344791</td><td>0.06508296 </td><td>0.2697901  </td><td>1256724.9  </td></tr>\n",
       "\t<tr><td>10         </td><td>54056304   </td><td>0.0e+00    </td><td>18255000   </td><td>  35801304 </td><td>41709831   </td><td>1.552348   </td><td> 0.60366473</td><td>0.06028949 </td><td>0.2730333  </td><td>1294278.2  </td></tr>\n",
       "\t<tr><td>11         </td><td>59041122   </td><td>0.0e+00    </td><td>18900000   </td><td>  40141122 </td><td>44390076   </td><td>1.587925   </td><td> 0.59293787</td><td>0.05615161 </td><td>0.2766114  </td><td>1329449.5  </td></tr>\n",
       "\t<tr><td>12         </td><td>64795389   </td><td>0.0e+00    </td><td>19575000   </td><td>  45220389 </td><td>47469493   </td><td>1.628163   </td><td> 0.58893294</td><td>0.05174512 </td><td>0.2779531  </td><td>1347479.7  </td></tr>\n",
       "\t<tr><td>13         </td><td>70499389   </td><td>0.0e+00    </td><td>20279000   </td><td>  50220389 </td><td>46254480   </td><td>1.581920   </td><td> 0.50025464</td><td>0.05683391 </td><td>0.3084479  </td><td>1540480.3  </td></tr>\n",
       "\t<tr><td>14         </td><td>72236389   </td><td>0.0e+00    </td><td>21016000   </td><td>  51220389 </td><td>45070566   </td><td>1.541366   </td><td> 0.41886892</td><td>0.06161385 </td><td>0.3376560  </td><td>1729133.7  </td></tr>\n",
       "\t<tr><td>15         </td><td>73008389   </td><td>0.0e+00    </td><td>21788000   </td><td>  51220389 </td><td>43916955   </td><td>1.505515   </td><td> 0.34361992</td><td>0.06609587 </td><td>0.3655661  </td><td>1911875.3  </td></tr>\n",
       "\t<tr><td>16         </td><td>73008389   </td><td>0.0e+00    </td><td>21788000   </td><td>  51220389 </td><td>42792871   </td><td>1.473601   </td><td> 0.27360111</td><td>0.07029451 </td><td>0.3921956  </td><td>2087554.9  </td></tr>\n",
       "\t<tr><td>17         </td><td>73008389   </td><td>0.0e+00    </td><td>21788000   </td><td>  51220389 </td><td>41697559   </td><td>1.445021   </td><td> 0.20808942</td><td>0.07422598 </td><td>0.4175796  </td><td>2255352.1  </td></tr>\n",
       "\t<tr><td>18         </td><td>73008389   </td><td>0.0e+00    </td><td>21788000   </td><td>  51220389 </td><td>40630283   </td><td>1.419292   </td><td> 0.14649954</td><td>0.07790699 </td><td>0.4417635  </td><td>2414706.5  </td></tr>\n",
       "\t<tr><td>19         </td><td>73008389   </td><td>0.0e+00    </td><td>21788000   </td><td>  51220389 </td><td>39590324   </td><td>1.396021   </td><td> 0.08835147</td><td>0.08135406 </td><td>0.4647987  </td><td>2565264.2  </td></tr>\n",
       "\t<tr><td>20         </td><td>73008389   </td><td>0.0e+00    </td><td>21788000   </td><td>  51220389 </td><td>38576983   </td><td>1.374888   </td><td> 0.03324705</td><td>0.08458311 </td><td>0.4867388  </td><td>2706833.2  </td></tr>\n",
       "\t<tr><td>21         </td><td>73008389   </td><td>0.0e+00    </td><td>21788000   </td><td>  51220389 </td><td>37589580   </td><td>1.355625   </td><td>-0.01914740</td><td>0.08760921 </td><td>0.5076382  </td><td>2839349.2  </td></tr>\n",
       "\t<tr><td>22         </td><td>73008389   </td><td>0.0e+00    </td><td>21788000   </td><td>  51220389 </td><td>36627449   </td><td>1.338011   </td><td>-0.06911417</td><td>0.09044650 </td><td>0.5275506  </td><td>2962847.6  </td></tr>\n",
       "\t<tr><td>23         </td><td>73008389   </td><td>0.0e+00    </td><td>21788000   </td><td>  51220389 </td><td>35689945   </td><td>1.321855   </td><td>-0.11689401</td><td>0.09310815 </td><td>0.5465280  </td><td>3077441.5  </td></tr>\n",
       "\t<tr><td>24         </td><td>73008389   </td><td>0.0e+00    </td><td>21788000   </td><td>  51220389 </td><td>34776438   </td><td>1.307000   </td><td>-0.16269383</td><td>0.09560635 </td><td>0.5646202  </td><td>3183303.5  </td></tr>\n",
       "\t<tr><td>25         </td><td>73008389   </td><td>0.0e+00    </td><td>21788000   </td><td>  51220389 </td><td>33886312   </td><td>1.293307   </td><td>-0.20669270</td><td>0.09795240 </td><td>0.5818751  </td><td>3280651.9  </td></tr>\n",
       "\t<tr><td>26         </td><td>73008389   </td><td>0.0e+00    </td><td>21788000   </td><td>  51220389 </td><td>33018969   </td><td>1.280659   </td><td>-0.24904656</td><td>0.10015668 </td><td>0.5983376  </td><td>3369738.8  </td></tr>\n",
       "\t<tr><td>27         </td><td>73008389   </td><td>0.0e+00    </td><td>21788000   </td><td>  51220389 </td><td>32173827   </td><td>1.268954   </td><td>-0.28989201</td><td>0.10222879 </td><td>0.6140506  </td><td>3450841.3  </td></tr>\n",
       "\t<tr><td>28         </td><td>73008389   </td><td>0.0e+00    </td><td>21788000   </td><td>  51220389 </td><td>31350316   </td><td>1.258101   </td><td>-0.32934933</td><td>0.10417753 </td><td>0.6290542  </td><td>3524253.6  </td></tr>\n",
       "\t<tr><td>29         </td><td>73008389   </td><td>0.0e+00    </td><td>21788000   </td><td>  51220389 </td><td>30547884   </td><td>1.248024   </td><td>-0.36752498</td><td>0.10601105 </td><td>0.6433863  </td><td>3590281.5  </td></tr>\n",
       "\t<tr><td>30         </td><td>73008389   </td><td>0.0e+00    </td><td>21788000   </td><td>  51220389 </td><td>29765991   </td><td>1.238654   </td><td>-0.40451363</td><td>0.10773682 </td><td>0.6570825  </td><td>3649237.3  </td></tr>\n",
       "\t<tr><td>31         </td><td>73008389   </td><td>0.0e+00    </td><td>21788000   </td><td>  51220389 </td><td>29004110   </td><td>1.229930   </td><td>-0.44039977</td><td>0.10936175 </td><td>0.6701762  </td><td>3701435.9  </td></tr>\n",
       "\t<tr><td>32         </td><td>73008389   </td><td>0.0e+00    </td><td>21788000   </td><td>  51220389 </td><td>28261731   </td><td>1.221797   </td><td>-0.47525918</td><td>0.11089218 </td><td>0.6826989  </td><td>3747192.0  </td></tr>\n",
       "\t<tr><td>33         </td><td>73008389   </td><td>0.0e+00    </td><td>21788000   </td><td>  51220389 </td><td>27538353   </td><td>1.214209   </td><td>-0.50916003</td><td>0.11233401 </td><td>0.6946800  </td><td>3786817.8  </td></tr>\n",
       "\t<tr><td>34         </td><td>73008389   </td><td>0.0e+00    </td><td>21788000   </td><td>  51220389 </td><td>26833491   </td><td>1.207122   </td><td>-0.54216387</td><td>0.11369264 </td><td>0.7061472  </td><td>3820620.4  </td></tr>\n",
       "\t<tr><td>35         </td><td>73008389   </td><td>0.0e+00    </td><td>21788000   </td><td>  51220389 </td><td>26146670   </td><td>1.200497   </td><td>-0.57432647</td><td>0.11497310 </td><td>0.7171266  </td><td>3848900.9  </td></tr>\n",
       "\t<tr><td>36         </td><td>73008389   </td><td>0.0e+00    </td><td>21788000   </td><td>  51220389 </td><td>25477428   </td><td>1.194301   </td><td>-0.60569850</td><td>0.11618003 </td><td>0.7276425  </td><td>3871953.3  </td></tr>\n",
       "\t<tr><td>37         </td><td>73008389   </td><td>0.0e+00    </td><td>21788000   </td><td>  51220389 </td><td>24825317   </td><td>1.188503   </td><td>-0.63632614</td><td>0.11731772 </td><td>0.7377181  </td><td>3890063.1  </td></tr>\n",
       "\t<tr><td>38         </td><td>73008389   </td><td>0.0e+00    </td><td>21788000   </td><td>  51220389 </td><td>24189896   </td><td>1.183073   </td><td>-0.66625158</td><td>0.11839018 </td><td>0.7473748  </td><td>3903507.1  </td></tr>\n",
       "\t<tr><td>39         </td><td>73008389   </td><td>0.0e+00    </td><td>21788000   </td><td>  51220389 </td><td>23570740   </td><td>1.177986   </td><td>-0.69551349</td><td>0.11940111 </td><td>0.7566332  </td><td>3912553.0  </td></tr>\n",
       "\t<tr><td>40         </td><td>73008389   </td><td>0.0e+00    </td><td>21788000   </td><td>  51220389 </td><td>22967431   </td><td>1.173219   </td><td>-0.72414737</td><td>0.12035395 </td><td>0.7655124  </td><td>3917458.6  </td></tr>\n",
       "</tbody>\n",
       "</table>\n"
      ],
      "text/latex": [
       "\\begin{tabular}{r|lllllllllll}\n",
       " time & revs & capital & o\\_m & net\\_cfs & fw & d1 & d2 & N\\_d1 & N\\_d2 & put\\\\\n",
       "\\hline\n",
       "\t  0          &        0    & 0.0e+00     &        0    &          0  &        0    &       NA    &          NA &         NA  &        NA   &        NA  \\\\\n",
       "\t  1          &        0    & 1.2e+08     &        0    & -120000000  &        0    &       NA    &          NA &         NA  &        NA   &        NA  \\\\\n",
       "\t  2          &        0    & 1.2e+08     &        0    & -120000000  &        0    &       NA    &          NA &         NA  &        NA   &        NA  \\\\\n",
       "\t  3          &        0    & 1.2e+08     &        0    & -120000000  &        0    &       NA    &          NA &         NA  &        NA   &        NA  \\\\\n",
       "\t  4          &        0    & 1.2e+08     &        0    & -120000000  &        0    &       NA    &          NA &         NA  &        NA   &        NA  \\\\\n",
       "\t  5          &        0    & 1.2e+08     &        0    & -120000000  &        0    &       NA    &          NA &         NA  &        NA   &        NA  \\\\\n",
       "\t  6          & 44689868    & 0.0e+00     & 15186757    &   29503111  & 38251134    & 1.641326    &  0.90647861 & 0.05036493  & 0.1823413   &  717167.1  \\\\\n",
       "\t  7          & 45901851    & 0.0e+00     & 15950734    &   29951117  & 38282885    & 1.577312    &  0.78358677 & 0.05736186  & 0.2166413   &  915992.6  \\\\\n",
       "\t  8          & 47044260    & 0.0e+00     & 16714711    &   30329549  & 38231409    & 1.526888    &  0.67835960 & 0.06339447  & 0.2487719   & 1114534.3  \\\\\n",
       "\t  9          & 49329077    & 0.0e+00     & 17044000    &   32285077  & 39062125    & 1.513448    &  0.61344791 & 0.06508296  & 0.2697901   & 1256724.9  \\\\\n",
       "\t 10          & 54056304    & 0.0e+00     & 18255000    &   35801304  & 41709831    & 1.552348    &  0.60366473 & 0.06028949  & 0.2730333   & 1294278.2  \\\\\n",
       "\t 11          & 59041122    & 0.0e+00     & 18900000    &   40141122  & 44390076    & 1.587925    &  0.59293787 & 0.05615161  & 0.2766114   & 1329449.5  \\\\\n",
       "\t 12          & 64795389    & 0.0e+00     & 19575000    &   45220389  & 47469493    & 1.628163    &  0.58893294 & 0.05174512  & 0.2779531   & 1347479.7  \\\\\n",
       "\t 13          & 70499389    & 0.0e+00     & 20279000    &   50220389  & 46254480    & 1.581920    &  0.50025464 & 0.05683391  & 0.3084479   & 1540480.3  \\\\\n",
       "\t 14          & 72236389    & 0.0e+00     & 21016000    &   51220389  & 45070566    & 1.541366    &  0.41886892 & 0.06161385  & 0.3376560   & 1729133.7  \\\\\n",
       "\t 15          & 73008389    & 0.0e+00     & 21788000    &   51220389  & 43916955    & 1.505515    &  0.34361992 & 0.06609587  & 0.3655661   & 1911875.3  \\\\\n",
       "\t 16          & 73008389    & 0.0e+00     & 21788000    &   51220389  & 42792871    & 1.473601    &  0.27360111 & 0.07029451  & 0.3921956   & 2087554.9  \\\\\n",
       "\t 17          & 73008389    & 0.0e+00     & 21788000    &   51220389  & 41697559    & 1.445021    &  0.20808942 & 0.07422598  & 0.4175796   & 2255352.1  \\\\\n",
       "\t 18          & 73008389    & 0.0e+00     & 21788000    &   51220389  & 40630283    & 1.419292    &  0.14649954 & 0.07790699  & 0.4417635   & 2414706.5  \\\\\n",
       "\t 19          & 73008389    & 0.0e+00     & 21788000    &   51220389  & 39590324    & 1.396021    &  0.08835147 & 0.08135406  & 0.4647987   & 2565264.2  \\\\\n",
       "\t 20          & 73008389    & 0.0e+00     & 21788000    &   51220389  & 38576983    & 1.374888    &  0.03324705 & 0.08458311  & 0.4867388   & 2706833.2  \\\\\n",
       "\t 21          & 73008389    & 0.0e+00     & 21788000    &   51220389  & 37589580    & 1.355625    & -0.01914740 & 0.08760921  & 0.5076382   & 2839349.2  \\\\\n",
       "\t 22          & 73008389    & 0.0e+00     & 21788000    &   51220389  & 36627449    & 1.338011    & -0.06911417 & 0.09044650  & 0.5275506   & 2962847.6  \\\\\n",
       "\t 23          & 73008389    & 0.0e+00     & 21788000    &   51220389  & 35689945    & 1.321855    & -0.11689401 & 0.09310815  & 0.5465280   & 3077441.5  \\\\\n",
       "\t 24          & 73008389    & 0.0e+00     & 21788000    &   51220389  & 34776438    & 1.307000    & -0.16269383 & 0.09560635  & 0.5646202   & 3183303.5  \\\\\n",
       "\t 25          & 73008389    & 0.0e+00     & 21788000    &   51220389  & 33886312    & 1.293307    & -0.20669270 & 0.09795240  & 0.5818751   & 3280651.9  \\\\\n",
       "\t 26          & 73008389    & 0.0e+00     & 21788000    &   51220389  & 33018969    & 1.280659    & -0.24904656 & 0.10015668  & 0.5983376   & 3369738.8  \\\\\n",
       "\t 27          & 73008389    & 0.0e+00     & 21788000    &   51220389  & 32173827    & 1.268954    & -0.28989201 & 0.10222879  & 0.6140506   & 3450841.3  \\\\\n",
       "\t 28          & 73008389    & 0.0e+00     & 21788000    &   51220389  & 31350316    & 1.258101    & -0.32934933 & 0.10417753  & 0.6290542   & 3524253.6  \\\\\n",
       "\t 29          & 73008389    & 0.0e+00     & 21788000    &   51220389  & 30547884    & 1.248024    & -0.36752498 & 0.10601105  & 0.6433863   & 3590281.5  \\\\\n",
       "\t 30          & 73008389    & 0.0e+00     & 21788000    &   51220389  & 29765991    & 1.238654    & -0.40451363 & 0.10773682  & 0.6570825   & 3649237.3  \\\\\n",
       "\t 31          & 73008389    & 0.0e+00     & 21788000    &   51220389  & 29004110    & 1.229930    & -0.44039977 & 0.10936175  & 0.6701762   & 3701435.9  \\\\\n",
       "\t 32          & 73008389    & 0.0e+00     & 21788000    &   51220389  & 28261731    & 1.221797    & -0.47525918 & 0.11089218  & 0.6826989   & 3747192.0  \\\\\n",
       "\t 33          & 73008389    & 0.0e+00     & 21788000    &   51220389  & 27538353    & 1.214209    & -0.50916003 & 0.11233401  & 0.6946800   & 3786817.8  \\\\\n",
       "\t 34          & 73008389    & 0.0e+00     & 21788000    &   51220389  & 26833491    & 1.207122    & -0.54216387 & 0.11369264  & 0.7061472   & 3820620.4  \\\\\n",
       "\t 35          & 73008389    & 0.0e+00     & 21788000    &   51220389  & 26146670    & 1.200497    & -0.57432647 & 0.11497310  & 0.7171266   & 3848900.9  \\\\\n",
       "\t 36          & 73008389    & 0.0e+00     & 21788000    &   51220389  & 25477428    & 1.194301    & -0.60569850 & 0.11618003  & 0.7276425   & 3871953.3  \\\\\n",
       "\t 37          & 73008389    & 0.0e+00     & 21788000    &   51220389  & 24825317    & 1.188503    & -0.63632614 & 0.11731772  & 0.7377181   & 3890063.1  \\\\\n",
       "\t 38          & 73008389    & 0.0e+00     & 21788000    &   51220389  & 24189896    & 1.183073    & -0.66625158 & 0.11839018  & 0.7473748   & 3903507.1  \\\\\n",
       "\t 39          & 73008389    & 0.0e+00     & 21788000    &   51220389  & 23570740    & 1.177986    & -0.69551349 & 0.11940111  & 0.7566332   & 3912553.0  \\\\\n",
       "\t 40          & 73008389    & 0.0e+00     & 21788000    &   51220389  & 22967431    & 1.173219    & -0.72414737 & 0.12035395  & 0.7655124   & 3917458.6  \\\\\n",
       "\\end{tabular}\n"
      ],
      "text/markdown": [
       "\n",
       "| time | revs | capital | o_m | net_cfs | fw | d1 | d2 | N_d1 | N_d2 | put |\n",
       "|---|---|---|---|---|---|---|---|---|---|---|\n",
       "|  0          |        0    | 0.0e+00     |        0    |          0  |        0    |       NA    |          NA |         NA  |        NA   |        NA   |\n",
       "|  1          |        0    | 1.2e+08     |        0    | -120000000  |        0    |       NA    |          NA |         NA  |        NA   |        NA   |\n",
       "|  2          |        0    | 1.2e+08     |        0    | -120000000  |        0    |       NA    |          NA |         NA  |        NA   |        NA   |\n",
       "|  3          |        0    | 1.2e+08     |        0    | -120000000  |        0    |       NA    |          NA |         NA  |        NA   |        NA   |\n",
       "|  4          |        0    | 1.2e+08     |        0    | -120000000  |        0    |       NA    |          NA |         NA  |        NA   |        NA   |\n",
       "|  5          |        0    | 1.2e+08     |        0    | -120000000  |        0    |       NA    |          NA |         NA  |        NA   |        NA   |\n",
       "|  6          | 44689868    | 0.0e+00     | 15186757    |   29503111  | 38251134    | 1.641326    |  0.90647861 | 0.05036493  | 0.1823413   |  717167.1   |\n",
       "|  7          | 45901851    | 0.0e+00     | 15950734    |   29951117  | 38282885    | 1.577312    |  0.78358677 | 0.05736186  | 0.2166413   |  915992.6   |\n",
       "|  8          | 47044260    | 0.0e+00     | 16714711    |   30329549  | 38231409    | 1.526888    |  0.67835960 | 0.06339447  | 0.2487719   | 1114534.3   |\n",
       "|  9          | 49329077    | 0.0e+00     | 17044000    |   32285077  | 39062125    | 1.513448    |  0.61344791 | 0.06508296  | 0.2697901   | 1256724.9   |\n",
       "| 10          | 54056304    | 0.0e+00     | 18255000    |   35801304  | 41709831    | 1.552348    |  0.60366473 | 0.06028949  | 0.2730333   | 1294278.2   |\n",
       "| 11          | 59041122    | 0.0e+00     | 18900000    |   40141122  | 44390076    | 1.587925    |  0.59293787 | 0.05615161  | 0.2766114   | 1329449.5   |\n",
       "| 12          | 64795389    | 0.0e+00     | 19575000    |   45220389  | 47469493    | 1.628163    |  0.58893294 | 0.05174512  | 0.2779531   | 1347479.7   |\n",
       "| 13          | 70499389    | 0.0e+00     | 20279000    |   50220389  | 46254480    | 1.581920    |  0.50025464 | 0.05683391  | 0.3084479   | 1540480.3   |\n",
       "| 14          | 72236389    | 0.0e+00     | 21016000    |   51220389  | 45070566    | 1.541366    |  0.41886892 | 0.06161385  | 0.3376560   | 1729133.7   |\n",
       "| 15          | 73008389    | 0.0e+00     | 21788000    |   51220389  | 43916955    | 1.505515    |  0.34361992 | 0.06609587  | 0.3655661   | 1911875.3   |\n",
       "| 16          | 73008389    | 0.0e+00     | 21788000    |   51220389  | 42792871    | 1.473601    |  0.27360111 | 0.07029451  | 0.3921956   | 2087554.9   |\n",
       "| 17          | 73008389    | 0.0e+00     | 21788000    |   51220389  | 41697559    | 1.445021    |  0.20808942 | 0.07422598  | 0.4175796   | 2255352.1   |\n",
       "| 18          | 73008389    | 0.0e+00     | 21788000    |   51220389  | 40630283    | 1.419292    |  0.14649954 | 0.07790699  | 0.4417635   | 2414706.5   |\n",
       "| 19          | 73008389    | 0.0e+00     | 21788000    |   51220389  | 39590324    | 1.396021    |  0.08835147 | 0.08135406  | 0.4647987   | 2565264.2   |\n",
       "| 20          | 73008389    | 0.0e+00     | 21788000    |   51220389  | 38576983    | 1.374888    |  0.03324705 | 0.08458311  | 0.4867388   | 2706833.2   |\n",
       "| 21          | 73008389    | 0.0e+00     | 21788000    |   51220389  | 37589580    | 1.355625    | -0.01914740 | 0.08760921  | 0.5076382   | 2839349.2   |\n",
       "| 22          | 73008389    | 0.0e+00     | 21788000    |   51220389  | 36627449    | 1.338011    | -0.06911417 | 0.09044650  | 0.5275506   | 2962847.6   |\n",
       "| 23          | 73008389    | 0.0e+00     | 21788000    |   51220389  | 35689945    | 1.321855    | -0.11689401 | 0.09310815  | 0.5465280   | 3077441.5   |\n",
       "| 24          | 73008389    | 0.0e+00     | 21788000    |   51220389  | 34776438    | 1.307000    | -0.16269383 | 0.09560635  | 0.5646202   | 3183303.5   |\n",
       "| 25          | 73008389    | 0.0e+00     | 21788000    |   51220389  | 33886312    | 1.293307    | -0.20669270 | 0.09795240  | 0.5818751   | 3280651.9   |\n",
       "| 26          | 73008389    | 0.0e+00     | 21788000    |   51220389  | 33018969    | 1.280659    | -0.24904656 | 0.10015668  | 0.5983376   | 3369738.8   |\n",
       "| 27          | 73008389    | 0.0e+00     | 21788000    |   51220389  | 32173827    | 1.268954    | -0.28989201 | 0.10222879  | 0.6140506   | 3450841.3   |\n",
       "| 28          | 73008389    | 0.0e+00     | 21788000    |   51220389  | 31350316    | 1.258101    | -0.32934933 | 0.10417753  | 0.6290542   | 3524253.6   |\n",
       "| 29          | 73008389    | 0.0e+00     | 21788000    |   51220389  | 30547884    | 1.248024    | -0.36752498 | 0.10601105  | 0.6433863   | 3590281.5   |\n",
       "| 30          | 73008389    | 0.0e+00     | 21788000    |   51220389  | 29765991    | 1.238654    | -0.40451363 | 0.10773682  | 0.6570825   | 3649237.3   |\n",
       "| 31          | 73008389    | 0.0e+00     | 21788000    |   51220389  | 29004110    | 1.229930    | -0.44039977 | 0.10936175  | 0.6701762   | 3701435.9   |\n",
       "| 32          | 73008389    | 0.0e+00     | 21788000    |   51220389  | 28261731    | 1.221797    | -0.47525918 | 0.11089218  | 0.6826989   | 3747192.0   |\n",
       "| 33          | 73008389    | 0.0e+00     | 21788000    |   51220389  | 27538353    | 1.214209    | -0.50916003 | 0.11233401  | 0.6946800   | 3786817.8   |\n",
       "| 34          | 73008389    | 0.0e+00     | 21788000    |   51220389  | 26833491    | 1.207122    | -0.54216387 | 0.11369264  | 0.7061472   | 3820620.4   |\n",
       "| 35          | 73008389    | 0.0e+00     | 21788000    |   51220389  | 26146670    | 1.200497    | -0.57432647 | 0.11497310  | 0.7171266   | 3848900.9   |\n",
       "| 36          | 73008389    | 0.0e+00     | 21788000    |   51220389  | 25477428    | 1.194301    | -0.60569850 | 0.11618003  | 0.7276425   | 3871953.3   |\n",
       "| 37          | 73008389    | 0.0e+00     | 21788000    |   51220389  | 24825317    | 1.188503    | -0.63632614 | 0.11731772  | 0.7377181   | 3890063.1   |\n",
       "| 38          | 73008389    | 0.0e+00     | 21788000    |   51220389  | 24189896    | 1.183073    | -0.66625158 | 0.11839018  | 0.7473748   | 3903507.1   |\n",
       "| 39          | 73008389    | 0.0e+00     | 21788000    |   51220389  | 23570740    | 1.177986    | -0.69551349 | 0.11940111  | 0.7566332   | 3912553.0   |\n",
       "| 40          | 73008389    | 0.0e+00     | 21788000    |   51220389  | 22967431    | 1.173219    | -0.72414737 | 0.12035395  | 0.7655124   | 3917458.6   |\n",
       "\n"
      ],
      "text/plain": [
       "   time revs     capital o_m      net_cfs    fw       d1       d2         \n",
       "1   0          0 0.0e+00        0          0        0       NA          NA\n",
       "2   1          0 1.2e+08        0 -120000000        0       NA          NA\n",
       "3   2          0 1.2e+08        0 -120000000        0       NA          NA\n",
       "4   3          0 1.2e+08        0 -120000000        0       NA          NA\n",
       "5   4          0 1.2e+08        0 -120000000        0       NA          NA\n",
       "6   5          0 1.2e+08        0 -120000000        0       NA          NA\n",
       "7   6   44689868 0.0e+00 15186757   29503111 38251134 1.641326  0.90647861\n",
       "8   7   45901851 0.0e+00 15950734   29951117 38282885 1.577312  0.78358677\n",
       "9   8   47044260 0.0e+00 16714711   30329549 38231409 1.526888  0.67835960\n",
       "10  9   49329077 0.0e+00 17044000   32285077 39062125 1.513448  0.61344791\n",
       "11 10   54056304 0.0e+00 18255000   35801304 41709831 1.552348  0.60366473\n",
       "12 11   59041122 0.0e+00 18900000   40141122 44390076 1.587925  0.59293787\n",
       "13 12   64795389 0.0e+00 19575000   45220389 47469493 1.628163  0.58893294\n",
       "14 13   70499389 0.0e+00 20279000   50220389 46254480 1.581920  0.50025464\n",
       "15 14   72236389 0.0e+00 21016000   51220389 45070566 1.541366  0.41886892\n",
       "16 15   73008389 0.0e+00 21788000   51220389 43916955 1.505515  0.34361992\n",
       "17 16   73008389 0.0e+00 21788000   51220389 42792871 1.473601  0.27360111\n",
       "18 17   73008389 0.0e+00 21788000   51220389 41697559 1.445021  0.20808942\n",
       "19 18   73008389 0.0e+00 21788000   51220389 40630283 1.419292  0.14649954\n",
       "20 19   73008389 0.0e+00 21788000   51220389 39590324 1.396021  0.08835147\n",
       "21 20   73008389 0.0e+00 21788000   51220389 38576983 1.374888  0.03324705\n",
       "22 21   73008389 0.0e+00 21788000   51220389 37589580 1.355625 -0.01914740\n",
       "23 22   73008389 0.0e+00 21788000   51220389 36627449 1.338011 -0.06911417\n",
       "24 23   73008389 0.0e+00 21788000   51220389 35689945 1.321855 -0.11689401\n",
       "25 24   73008389 0.0e+00 21788000   51220389 34776438 1.307000 -0.16269383\n",
       "26 25   73008389 0.0e+00 21788000   51220389 33886312 1.293307 -0.20669270\n",
       "27 26   73008389 0.0e+00 21788000   51220389 33018969 1.280659 -0.24904656\n",
       "28 27   73008389 0.0e+00 21788000   51220389 32173827 1.268954 -0.28989201\n",
       "29 28   73008389 0.0e+00 21788000   51220389 31350316 1.258101 -0.32934933\n",
       "30 29   73008389 0.0e+00 21788000   51220389 30547884 1.248024 -0.36752498\n",
       "31 30   73008389 0.0e+00 21788000   51220389 29765991 1.238654 -0.40451363\n",
       "32 31   73008389 0.0e+00 21788000   51220389 29004110 1.229930 -0.44039977\n",
       "33 32   73008389 0.0e+00 21788000   51220389 28261731 1.221797 -0.47525918\n",
       "34 33   73008389 0.0e+00 21788000   51220389 27538353 1.214209 -0.50916003\n",
       "35 34   73008389 0.0e+00 21788000   51220389 26833491 1.207122 -0.54216387\n",
       "36 35   73008389 0.0e+00 21788000   51220389 26146670 1.200497 -0.57432647\n",
       "37 36   73008389 0.0e+00 21788000   51220389 25477428 1.194301 -0.60569850\n",
       "38 37   73008389 0.0e+00 21788000   51220389 24825317 1.188503 -0.63632614\n",
       "39 38   73008389 0.0e+00 21788000   51220389 24189896 1.183073 -0.66625158\n",
       "40 39   73008389 0.0e+00 21788000   51220389 23570740 1.177986 -0.69551349\n",
       "41 40   73008389 0.0e+00 21788000   51220389 22967431 1.173219 -0.72414737\n",
       "   N_d1       N_d2      put      \n",
       "1          NA        NA        NA\n",
       "2          NA        NA        NA\n",
       "3          NA        NA        NA\n",
       "4          NA        NA        NA\n",
       "5          NA        NA        NA\n",
       "6          NA        NA        NA\n",
       "7  0.05036493 0.1823413  717167.1\n",
       "8  0.05736186 0.2166413  915992.6\n",
       "9  0.06339447 0.2487719 1114534.3\n",
       "10 0.06508296 0.2697901 1256724.9\n",
       "11 0.06028949 0.2730333 1294278.2\n",
       "12 0.05615161 0.2766114 1329449.5\n",
       "13 0.05174512 0.2779531 1347479.7\n",
       "14 0.05683391 0.3084479 1540480.3\n",
       "15 0.06161385 0.3376560 1729133.7\n",
       "16 0.06609587 0.3655661 1911875.3\n",
       "17 0.07029451 0.3921956 2087554.9\n",
       "18 0.07422598 0.4175796 2255352.1\n",
       "19 0.07790699 0.4417635 2414706.5\n",
       "20 0.08135406 0.4647987 2565264.2\n",
       "21 0.08458311 0.4867388 2706833.2\n",
       "22 0.08760921 0.5076382 2839349.2\n",
       "23 0.09044650 0.5275506 2962847.6\n",
       "24 0.09310815 0.5465280 3077441.5\n",
       "25 0.09560635 0.5646202 3183303.5\n",
       "26 0.09795240 0.5818751 3280651.9\n",
       "27 0.10015668 0.5983376 3369738.8\n",
       "28 0.10222879 0.6140506 3450841.3\n",
       "29 0.10417753 0.6290542 3524253.6\n",
       "30 0.10601105 0.6433863 3590281.5\n",
       "31 0.10773682 0.6570825 3649237.3\n",
       "32 0.10936175 0.6701762 3701435.9\n",
       "33 0.11089218 0.6826989 3747192.0\n",
       "34 0.11233401 0.6946800 3786817.8\n",
       "35 0.11369264 0.7061472 3820620.4\n",
       "36 0.11497310 0.7171266 3848900.9\n",
       "37 0.11618003 0.7276425 3871953.3\n",
       "38 0.11731772 0.7377181 3890063.1\n",
       "39 0.11839018 0.7473748 3903507.1\n",
       "40 0.11940111 0.7566332 3912553.0\n",
       "41 0.12035395 0.7655124 3917458.6"
      ]
     },
     "metadata": {},
     "output_type": "display_data"
    },
    {
     "data": {
      "text/html": [
       "<table>\n",
       "<thead><tr><th scope=col>time</th><th scope=col>revs</th><th scope=col>capital</th><th scope=col>o_m</th><th scope=col>net_cfs</th><th scope=col>fw</th><th scope=col>d1</th><th scope=col>d2</th><th scope=col>N_d1</th><th scope=col>N_d2</th><th scope=col>put</th></tr></thead>\n",
       "<tbody>\n",
       "\t<tr><td>35        </td><td>73008389  </td><td>0         </td><td>21788000  </td><td>51220389  </td><td>26146670  </td><td>1.200497  </td><td>-0.5743265</td><td>0.1149731 </td><td>0.7171266 </td><td>3848901   </td></tr>\n",
       "\t<tr><td>36        </td><td>73008389  </td><td>0         </td><td>21788000  </td><td>51220389  </td><td>25477428  </td><td>1.194301  </td><td>-0.6056985</td><td>0.1161800 </td><td>0.7276425 </td><td>3871953   </td></tr>\n",
       "\t<tr><td>37        </td><td>73008389  </td><td>0         </td><td>21788000  </td><td>51220389  </td><td>24825317  </td><td>1.188503  </td><td>-0.6363261</td><td>0.1173177 </td><td>0.7377181 </td><td>3890063   </td></tr>\n",
       "\t<tr><td>38        </td><td>73008389  </td><td>0         </td><td>21788000  </td><td>51220389  </td><td>24189896  </td><td>1.183073  </td><td>-0.6662516</td><td>0.1183902 </td><td>0.7473748 </td><td>3903507   </td></tr>\n",
       "\t<tr><td>39        </td><td>73008389  </td><td>0         </td><td>21788000  </td><td>51220389  </td><td>23570740  </td><td>1.177986  </td><td>-0.6955135</td><td>0.1194011 </td><td>0.7566332 </td><td>3912553   </td></tr>\n",
       "\t<tr><td>40        </td><td>73008389  </td><td>0         </td><td>21788000  </td><td>51220389  </td><td>22967431  </td><td>1.173219  </td><td>-0.7241474</td><td>0.1203540 </td><td>0.7655124 </td><td>3917459   </td></tr>\n",
       "</tbody>\n",
       "</table>\n"
      ],
      "text/latex": [
       "\\begin{tabular}{r|lllllllllll}\n",
       " time & revs & capital & o\\_m & net\\_cfs & fw & d1 & d2 & N\\_d1 & N\\_d2 & put\\\\\n",
       "\\hline\n",
       "\t 35         & 73008389   & 0          & 21788000   & 51220389   & 26146670   & 1.200497   & -0.5743265 & 0.1149731  & 0.7171266  & 3848901   \\\\\n",
       "\t 36         & 73008389   & 0          & 21788000   & 51220389   & 25477428   & 1.194301   & -0.6056985 & 0.1161800  & 0.7276425  & 3871953   \\\\\n",
       "\t 37         & 73008389   & 0          & 21788000   & 51220389   & 24825317   & 1.188503   & -0.6363261 & 0.1173177  & 0.7377181  & 3890063   \\\\\n",
       "\t 38         & 73008389   & 0          & 21788000   & 51220389   & 24189896   & 1.183073   & -0.6662516 & 0.1183902  & 0.7473748  & 3903507   \\\\\n",
       "\t 39         & 73008389   & 0          & 21788000   & 51220389   & 23570740   & 1.177986   & -0.6955135 & 0.1194011  & 0.7566332  & 3912553   \\\\\n",
       "\t 40         & 73008389   & 0          & 21788000   & 51220389   & 22967431   & 1.173219   & -0.7241474 & 0.1203540  & 0.7655124  & 3917459   \\\\\n",
       "\\end{tabular}\n"
      ],
      "text/markdown": [
       "\n",
       "| time | revs | capital | o_m | net_cfs | fw | d1 | d2 | N_d1 | N_d2 | put |\n",
       "|---|---|---|---|---|---|---|---|---|---|---|\n",
       "| 35         | 73008389   | 0          | 21788000   | 51220389   | 26146670   | 1.200497   | -0.5743265 | 0.1149731  | 0.7171266  | 3848901    |\n",
       "| 36         | 73008389   | 0          | 21788000   | 51220389   | 25477428   | 1.194301   | -0.6056985 | 0.1161800  | 0.7276425  | 3871953    |\n",
       "| 37         | 73008389   | 0          | 21788000   | 51220389   | 24825317   | 1.188503   | -0.6363261 | 0.1173177  | 0.7377181  | 3890063    |\n",
       "| 38         | 73008389   | 0          | 21788000   | 51220389   | 24189896   | 1.183073   | -0.6662516 | 0.1183902  | 0.7473748  | 3903507    |\n",
       "| 39         | 73008389   | 0          | 21788000   | 51220389   | 23570740   | 1.177986   | -0.6955135 | 0.1194011  | 0.7566332  | 3912553    |\n",
       "| 40         | 73008389   | 0          | 21788000   | 51220389   | 22967431   | 1.173219   | -0.7241474 | 0.1203540  | 0.7655124  | 3917459    |\n",
       "\n"
      ],
      "text/plain": [
       "  time revs     capital o_m      net_cfs  fw       d1       d2        \n",
       "1 35   73008389 0       21788000 51220389 26146670 1.200497 -0.5743265\n",
       "2 36   73008389 0       21788000 51220389 25477428 1.194301 -0.6056985\n",
       "3 37   73008389 0       21788000 51220389 24825317 1.188503 -0.6363261\n",
       "4 38   73008389 0       21788000 51220389 24189896 1.183073 -0.6662516\n",
       "5 39   73008389 0       21788000 51220389 23570740 1.177986 -0.6955135\n",
       "6 40   73008389 0       21788000 51220389 22967431 1.173219 -0.7241474\n",
       "  N_d1      N_d2      put    \n",
       "1 0.1149731 0.7171266 3848901\n",
       "2 0.1161800 0.7276425 3871953\n",
       "3 0.1173177 0.7377181 3890063\n",
       "4 0.1183902 0.7473748 3903507\n",
       "5 0.1194011 0.7566332 3912553\n",
       "6 0.1203540 0.7655124 3917459"
      ]
     },
     "metadata": {},
     "output_type": "display_data"
    }
   ],
   "source": [
    "# Calculate Revenue Forward Prices (fw):\n",
    "df <- df %>%\n",
    "  mutate(fw = case_when(time < 13 ~ revs*exp(rf*time)/(1+ra)^time, \n",
    "                        time >= 13 ~ revs[13]*exp(rf*time)/(1+ra)^time)) %>%\n",
    "  \n",
    "  # Calculate Put value (put):\n",
    "  # insert d1 and d2\n",
    "  mutate(d1 = (log(fw/strike) + time*(vol1^2)/2) / (vol1*sqrt(time))) %>%\n",
    "  mutate(d1 = replace(d1, d1 == -Inf, NA)) %>%\n",
    "  mutate(d2 = d1-(vol1*sqrt(time))) %>%\n",
    "  # insert N(-d1) and N(-d2)     \n",
    "  mutate(N_d1 = pnorm(-d1), \n",
    "         N_d2 = pnorm(-d2)) %>%\n",
    "  # insert put value (revenue guarantee) for each time t     \n",
    "  mutate(put = exp(-rf*time)*(strike*N_d2 - fw*N_d1))\n",
    "df\n",
    "tail(df)"
   ]
  },
  {
   "cell_type": "code",
   "execution_count": 161,
   "metadata": {},
   "outputs": [
    {
     "name": "stdout",
     "output_type": "stream",
     "text": [
      "The value of the minimum revenue guarantees for {5, 10, 20} years duration are:  \n"
     ]
    },
    {
     "data": {
      "text/html": [
       "<table>\n",
       "<thead><tr><th scope=col>mrg_put</th></tr></thead>\n",
       "<tbody>\n",
       "\t<tr><td> 5298697</td></tr>\n",
       "\t<tr><td>13157116</td></tr>\n",
       "\t<tr><td>40530420</td></tr>\n",
       "</tbody>\n",
       "</table>\n"
      ],
      "text/latex": [
       "\\begin{tabular}{r|l}\n",
       " mrg\\_put\\\\\n",
       "\\hline\n",
       "\t  5298697\\\\\n",
       "\t 13157116\\\\\n",
       "\t 40530420\\\\\n",
       "\\end{tabular}\n"
      ],
      "text/markdown": [
       "\n",
       "| mrg_put |\n",
       "|---|\n",
       "|  5298697 |\n",
       "| 13157116 |\n",
       "| 40530420 |\n",
       "\n"
      ],
      "text/plain": [
       "  mrg_put \n",
       "1  5298697\n",
       "2 13157116\n",
       "3 40530420"
      ]
     },
     "metadata": {},
     "output_type": "display_data"
    }
   ],
   "source": [
    "# Value of Minimum Revenue Guarantees under different durations:\n",
    "mrg_put   <- map_dbl(durations, ~sum(df$put[7:(6 +.x)]))\n",
    "cat(\"The value of the minimum revenue guarantees for {5, 10, 20} years duration are: \",\"\\n\")\n",
    "tibble(mrg_put)"
   ]
  },
  {
   "cell_type": "markdown",
   "metadata": {},
   "source": [
    "<br>\n",
    "\n",
    "### TIFIA LOAN & MUNI BONDS:\n",
    "\n",
    "We assume 70% debt funding, which is typical for highway projects. Total capital expenditures are $600 million, funded with *\\\\$420M of total debt*, and *\\\\$180M of equity* raised by the private partner. \n",
    "- **TIFIA guarantees** \\\\$120 million of the debt\n",
    "- **Special activity muni bonds** fund \\\\$230 million\n",
    "- The balance of \\\\$70 million is covered by unsubsidized private partner debt."
   ]
  },
  {
   "cell_type": "code",
   "execution_count": 132,
   "metadata": {},
   "outputs": [
    {
     "name": "stdout",
     "output_type": "stream",
     "text": [
      "pmt =  5543921 \n",
      "pv_mkt =  -93021547 \n",
      " \n",
      "The present value of TIFIA's credit subsidy is: \n",
      "pv_subsidy = $ 21909715 \n",
      "subsidy_perc =  22.48 % \n"
     ]
    }
   ],
   "source": [
    "## TIFIA LOAN:\n",
    "# Inputs:\n",
    "princ_tf <- 120000000     # principal TIFIA ($)\n",
    "rate_tf  <- 0.0225        # rate TIFIA (%)\n",
    "rate_mkt <- rate_tf + rf  # market rate (%)\n",
    "n_tf     <- 30            # maturity TIFIA (years)\n",
    "start_tf <- 5             # start year TIFIA\n",
    "\n",
    "# Calculations\n",
    "pmt =(rate_tf*princ_tf)/(1-(1+rate_tf)^(-n_tf))  # payment (TIFIA)\n",
    "pv_mkt = -PV(rate_mkt,n_tf,-pmt)                 # PV(debt payments) @market rate\n",
    "\n",
    "# The present value of the credit subsidy would be the difference between:\n",
    "#   1) PV(debt payments) discounted at subsidized borrowing rate (@2.25%) [i.e.: principal value of loan]\n",
    "#   2) PV(debt payments) discounted at estimated market rate (@4.25)\n",
    "pv_subsidy <- (princ_tf+pv_mkt)/(1+rate_mkt)^start_tf\n",
    "\n",
    "# As percentage of TIFIA's principal (at year 5):\n",
    "subsidy_perc <- (princ_tf+pv_mkt)/princ_tf\n",
    "\n",
    "# Print results:\n",
    "cat(\"pmt = \", pmt,\"\\n\")\n",
    "cat(\"pv_mkt = \", pv_mkt, \"\\n\", )\n",
    "cat(\"The present value of TIFIA's credit subsidy is:\", \"\\n\")\n",
    "cat(\"pv_subsidy = $\", pv_subsidy, \"\\n\")\n",
    "cat(\"subsidy_perc = \", round(subsidy_perc*100, 2),\"%\",\"\\n\")"
   ]
  },
  {
   "cell_type": "code",
   "execution_count": 196,
   "metadata": {},
   "outputs": [
    {
     "name": "stdout",
     "output_type": "stream",
     "text": [
      "The present value of the MUNI subsidy is: \n",
      "pv_muni = $ -38812190"
     ]
    }
   ],
   "source": [
    "## MUNI:\n",
    "# Inputs:\n",
    "princ_muni <- 230000000     # principal MUNI ($)\n",
    "rate_muni  <- 0.0475        # rate MUNI (%)\n",
    "tax_muni   <- 0.2           # tax rate MUNI (%)\n",
    "n_muni     <- 40            # maturity MUNI (years)\n",
    "\n",
    "# Calculations\n",
    "pv_muni = -PV(rate_muni,n_muni,-(tax_muni*rate_muni*princ_muni))                 # PV(debt payments) @market rate\n",
    "\n",
    "# Print result:\n",
    "cat(\"The present value of the MUNI subsidy is:\", \"\\n\")\n",
    "cat(\"pv_muni = $\", pv_muni)"
   ]
  },
  {
   "cell_type": "markdown",
   "metadata": {},
   "source": [
    "<br>\n",
    "\n",
    "## Value of standalone project"
   ]
  },
  {
   "cell_type": "code",
   "execution_count": 226,
   "metadata": {},
   "outputs": [
    {
     "name": "stdout",
     "output_type": "stream",
     "text": [
      "The present value of the standalone project is: \n",
      "npv_project = $ 36722472 \n",
      "irr_project =  5.7 % \n",
      "irr_project_fixed =  5.14 % \n"
     ]
    }
   ],
   "source": [
    "## NPV standalone project\n",
    "# Generate fixed base CFs after t=12:\n",
    "fixed_net_cfs <- df %>%\n",
    "    transmute(revs, capital, o_m, fixed_net_cfs = case_when(time < 13 ~ revs - capital - o_m, \n",
    "                                                            time >= 13 ~ revs[13]- capital[13] - o_m[13])) %>%\n",
    "    select(fixed_net_cfs)\n",
    "# Calculate net present value (standalone project w/ fixed base CFs)\n",
    "npv_project <- sum(fixed_net_cfs*(1 / (1 + ra))^(0:n))\n",
    "irr_project <- irr(fixed_net_cfs[[1]])\n",
    "irr_project2 <- irr(df$net_cfs)\n",
    "\n",
    "# Print result:\n",
    "cat(\"The present value of the standalone project is:\", \"\\n\")\n",
    "cat(\"npv_project = $\", npv_project,\"\\n\")  \n",
    "cat(\"irr_project = \", round(irr_project2*100, 2),\"%\",\"\\n\")\n",
    "cat(\"irr_project_fixed = \", round(irr_project*100, 2),\"%\",\"\\n\")\n"
   ]
  },
  {
   "cell_type": "markdown",
   "metadata": {},
   "source": [
    "<br>\n",
    "\n",
    "**Sensitivity to discount rate**<br>\n",
    "- If assume gov’t discount rate based on real Aa2 20-year muni rate of 1.72%, estimated value increases to **\\\\$451 million**\n",
    "- If assume **real rate of 7%** (as per OMB guidance), estimated value falls to **-$117 million**\n",
    "- IRR is 5.7%\n",
    "- Extreme sensitivity because of long project horizon and low interest rate conditions\n",
    "<br>\n"
   ]
  },
  {
   "cell_type": "markdown",
   "metadata": {},
   "source": [
    "<br>\n",
    "\n",
    "## Subsidies from TIFIA loan guarantees and muni bonds\n",
    "Supporting assumptions and fair value calculation suggest magnitude of these subsidies:\n",
    "- **TIFIA subsidy:** \\\\$22 million\n",
    "- **Muni subsidy:** \\\\$39 million\n",
    "\n",
    "These subsidies are a cost to the federal government. A state or local  government might add them to the APV of the project (see above **standalone project value = \\\\$37 million**). <br>\n",
    "However, they are a transfer from federal to state and local taxpayers (and to the private partner if competition is limited). "
   ]
  }
 ],
 "metadata": {
  "kernelspec": {
   "display_name": "R",
   "language": "R",
   "name": "ir"
  },
  "language_info": {
   "codemirror_mode": "r",
   "file_extension": ".r",
   "mimetype": "text/x-r-source",
   "name": "R",
   "pygments_lexer": "r",
   "version": "3.5.2"
  }
 },
 "nbformat": 4,
 "nbformat_minor": 4
}
